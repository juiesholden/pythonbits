{
 "cells": [
  {
   "cell_type": "code",
   "execution_count": 26,
   "metadata": {},
   "outputs": [
    {
     "name": "stdout",
     "output_type": "stream",
     "text": [
      "alpha  :  22\n",
      "beta  :  50\n",
      "gamma  :  75\n",
      "[22, 50, 75]\n",
      "22\n",
      "beta 50\n"
     ]
    }
   ],
   "source": [
    "'''\n",
    "players=[]\n",
    "for i in range(1,11):\n",
    "    players.append(input(\"Please Enter player name: \"))\n",
    "    players.append(int(input(\"Please enter player performance: \")))\n",
    "'''\n",
    "\n",
    "    \n",
    "players = [\"alpha\",22,\"beta\",50,\"gamma\",75]  #test data\n",
    "\n",
    "counter = 0\n",
    "end = len(players)\n",
    "while counter < end:\n",
    "    print(players[counter],\" : \",players[counter +1])\n",
    "    counter = counter + 2\n",
    "    \n",
    "\n",
    "results = []\n",
    "for x in range(1,end,2):\n",
    "    results.append(players[x])\n",
    "print(results)\n",
    "\n",
    "def values(what):\n",
    "    if what == \"max\":\n",
    "        return max(results)\n",
    "    elif what == \"min\":\n",
    "        return min(results)\n",
    "    else:\n",
    "        return \"Invalid parameter\"\n",
    "    \n",
    "print(values(\"min\"))    #test code\n",
    "\n",
    "\n",
    "def find_player(name):\n",
    "    if not name in players:\n",
    "        print(\"Player not found\")\n",
    "    else:\n",
    "        x = players.index(name)\n",
    "        print(players[x],players[x+1])\n",
    "\n",
    "    \n",
    "find_player(\"beta\")    \n"
   ]
  },
  {
   "cell_type": "code",
   "execution_count": null,
   "metadata": {},
   "outputs": [],
   "source": []
  }
 ],
 "metadata": {
  "kernelspec": {
   "display_name": "Python 3",
   "language": "python",
   "name": "python3"
  },
  "language_info": {
   "codemirror_mode": {
    "name": "ipython",
    "version": 3
   },
   "file_extension": ".py",
   "mimetype": "text/x-python",
   "name": "python",
   "nbconvert_exporter": "python",
   "pygments_lexer": "ipython3",
   "version": "3.7.3"
  }
 },
 "nbformat": 4,
 "nbformat_minor": 2
}
