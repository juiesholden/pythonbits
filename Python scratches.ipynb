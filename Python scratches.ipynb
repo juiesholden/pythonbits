{
 "cells": [
  {
   "cell_type": "code",
   "execution_count": 103,
   "metadata": {},
   "outputs": [
    {
     "name": "stdout",
     "output_type": "stream",
     "text": [
      "Hello Julian\n",
      "2\n",
      "4\n",
      "16\n",
      "7.0\n"
     ]
    }
   ],
   "source": [
    "import math\n",
    "\n",
    "def same(x):\n",
    "    return x\n",
    "\n",
    "def square(x):\n",
    "    return x * x\n",
    "\n",
    "def power(x,y):\n",
    "    try:\n",
    "        return (x**y)\n",
    "    except:\n",
    "        print(\"Power function needs two numeric arguments\")\n",
    "\n",
    "def greet(name):\n",
    "    print(\"Hello\" ,name)\n",
    "\n",
    "\n",
    "\"\"\"def line(x):\n",
    "   for i in (1,x):\n",
    "        print('-')\n",
    "        \n",
    "  \"\"\" \n",
    "\n",
    "power(2,4)\n",
    "greet(\"Julian\")\n",
    "#width(6)\n",
    "print(same(2))\n",
    "\n",
    "print(square(2))\n",
    "try:\n",
    "    print(power(2,4))\n",
    "except:\n",
    "    print(\"power needs two numeric arguments\")\n",
    "print(math.sqrt(49))"
   ]
  },
  {
   "cell_type": "code",
   "execution_count": 68,
   "metadata": {},
   "outputs": [
    {
     "data": {
      "text/plain": [
       "1.4142135623730951"
      ]
     },
     "execution_count": 68,
     "metadata": {},
     "output_type": "execute_result"
    }
   ],
   "source": [
    "2 ** (1/2)"
   ]
  },
  {
   "cell_type": "code",
   "execution_count": 106,
   "metadata": {},
   "outputs": [
    {
     "data": {
      "text/plain": [
       "'C:\\\\Users\\\\Owner'"
      ]
     },
     "execution_count": 106,
     "metadata": {},
     "output_type": "execute_result"
    }
   ],
   "source": [
    "import os as win\n",
    "win.getcwd()"
   ]
  },
  {
   "cell_type": "code",
   "execution_count": 81,
   "metadata": {},
   "outputs": [
    {
     "name": "stdout",
     "output_type": "stream",
     "text": [
      "2\n",
      "4\n",
      "8\n",
      "16\n",
      "32\n",
      "64\n",
      "128\n",
      "256\n",
      "512\n",
      "1024\n",
      "2048\n",
      "4096\n",
      "8192\n",
      "16384\n",
      "32768\n",
      "65536\n",
      "131072\n",
      "262144\n",
      "524288\n",
      "1048576\n",
      "2097152\n",
      "4194304\n",
      "8388608\n",
      "16777216\n",
      "33554432\n",
      "67108864\n",
      "134217728\n",
      "268435456\n",
      "536870912\n",
      "1073741824\n",
      "Loop Finished\n",
      "All done\n"
     ]
    }
   ],
   "source": [
    "x = 1\n",
    "while True:\n",
    "    y = 2 ** x\n",
    "    x+=1\n",
    "    print (y )\n",
    "    if y > 1000000000:\n",
    "        print(\"Loop Finished\")\n",
    "        break\n",
    "print(\"All done\")    "
   ]
  },
  {
   "cell_type": "code",
   "execution_count": 97,
   "metadata": {},
   "outputs": [
    {
     "name": "stdout",
     "output_type": "stream",
     "text": [
      "Letter 1 is J\n",
      "Letter 2 is u\n",
      "Letter 3 is l\n",
      "Letter 4 is i\n",
      "Letter 5 is a\n",
      "Letter 6 is n\n",
      "<space>\n",
      "Letter 7 is H\n",
      "Letter 8 is o\n",
      "Letter 9 is l\n",
      "Letter 10 is d\n",
      "Letter 11 is e\n",
      "Letter 12 is n\n"
     ]
    }
   ],
   "source": [
    "def speller(Word):\n",
    "    LetterNum = 1\n",
    "    for Letter in Word:\n",
    "        if Letter == \" \":\n",
    "            print(\"<space>\")\n",
    "            continue\n",
    "           \n",
    "        print(\"Letter\", LetterNum, \"is\", Letter)\n",
    "        \n",
    "        LetterNum+=1\n",
    "        \n",
    "speller(\"Julian Holden\")"
   ]
  },
  {
   "cell_type": "code",
   "execution_count": 113,
   "metadata": {},
   "outputs": [
    {
     "name": "stdout",
     "output_type": "stream",
     "text": [
      "Hello\n",
      "True\n",
      "False\n",
      "False\n",
      "True\n",
      "False\n"
     ]
    }
   ],
   "source": [
    "#string methods\n",
    "\n",
    "x=\"hello\"\n",
    "print(x.capitalize())\n",
    "print(x.isalpha())\n",
    "print(x.isdecimal())\n",
    "print(x.isdigit())\n",
    "print(x.islower())\n",
    "print(x.isnumeric())"
   ]
  },
  {
   "cell_type": "code",
   "execution_count": 2,
   "metadata": {},
   "outputs": [
    {
     "name": "stdout",
     "output_type": "stream",
     "text": [
      "['one', 'two', 'three']\n",
      "one\n",
      "['one', 'two', 'three', 'four']\n",
      "['one', 'two', 'three']\n",
      "four\n",
      "['one', 'two', 'three', 'four']\n",
      "['one', 'two', 'three', 'four', 'one', 'two', 'three', 'four']\n",
      "['one', 'three', 'four', 'one', 'two', 'three']\n",
      "one\n",
      "three\n",
      "four\n",
      "one\n",
      "two\n",
      "three\n",
      "['four', 'one', 'one', 'three', 'three', 'two']\n"
     ]
    }
   ],
   "source": [
    "#lists\n",
    "\n",
    "list=[\"one\",\"two\",\"three\"]\n",
    "print(list)\n",
    "print(list[0])\n",
    "list.append(\"four\")\n",
    "print(list)\n",
    "print(list[:3])\n",
    "print(list[-1])\n",
    "newlist=list.copy()\n",
    "print(newlist)\n",
    "newlist.extend(list)\n",
    "print(newlist)\n",
    "newlist.pop()\n",
    "newlist.remove('two')\n",
    "print(newlist)\n",
    "\n",
    "for num in newlist:\n",
    "    print(num)\n",
    "    \n",
    "newlist.sort()\n",
    "print(newlist)"
   ]
  },
  {
   "cell_type": "code",
   "execution_count": 1,
   "metadata": {},
   "outputs": [
    {
     "name": "stdout",
     "output_type": "stream",
     "text": [
      "Enter a colour name: Red\n",
      "Red is in list\n",
      "Enter a colour name: Green\n",
      "Green is in list\n",
      "Enter a colour name: Quit\n"
     ]
    }
   ],
   "source": [
    "#searching lists\n",
    "\n",
    "colours = [\"Red\",\"Orange\",\"Yellow\", \"Green\", \"Blue\"]\n",
    "search = \"\"\n",
    "\n",
    "while str.upper(search) !=\"QUIT\":\n",
    "    search = input(\"Enter a colour name: \")\n",
    "    if colours.count(search) >= 1:\n",
    "        print(search, \"is in list\")\n",
    "        \n",
    "    "
   ]
  },
  {
   "cell_type": "code",
   "execution_count": 7,
   "metadata": {},
   "outputs": [
    {
     "name": "stdout",
     "output_type": "stream",
     "text": [
      "{'cat': 'Lola', 'dog': 'Fido'}\n",
      "Fido\n"
     ]
    }
   ],
   "source": [
    "#dictionaries\n",
    "\n",
    "animals = {\"cat\" : \"Lola\", \"dog\" :\"Fido\"}\n",
    "print(animals)\n",
    "print(animals[\"dog\"]\n",
    "     )"
   ]
  },
  {
   "cell_type": "code",
   "execution_count": 17,
   "metadata": {},
   "outputs": [
    {
     "name": "stdout",
     "output_type": "stream",
     "text": [
      "Stack currently holds:\n",
      "2\n",
      "8\n",
      "Stack currently holds:\n",
      "2\n",
      "Stack currently holds:\n",
      "2\n",
      "9\n",
      "12\n",
      "Stack is full\n"
     ]
    }
   ],
   "source": [
    "#stacks with lists\n",
    "\n",
    "stack=[]\n",
    "stackSize = 3\n",
    "\n",
    "def showStack():\n",
    "    print(\"Stack currently holds:\")\n",
    "    for item in stack:\n",
    "        print(item)\n",
    "        \n",
    "def push(value):\n",
    "    if len(stack) < stackSize:\n",
    "        stack.append(value)\n",
    "    else:\n",
    "        print(\"Stack is full\")\n",
    "        \n",
    "def pop():\n",
    "    if len(stack) > 0:\n",
    "        stack.pop()\n",
    "    else:\n",
    "        print(\"Stack is empty\")\n",
    "        \n",
    "push(2)\n",
    "push(8)\n",
    "showStack()\n",
    "pop()\n",
    "showStack()    \n",
    "push(9)\n",
    "push(12)\n",
    "showStack()\n",
    "push(99)\n",
    "        "
   ]
  },
  {
   "cell_type": "code",
   "execution_count": 27,
   "metadata": {},
   "outputs": [
    {
     "ename": "SyntaxError",
     "evalue": "invalid syntax (<ipython-input-27-40c2554eb992>, line 7)",
     "output_type": "error",
     "traceback": [
      "\u001b[1;36m  File \u001b[1;32m\"<ipython-input-27-40c2554eb992>\"\u001b[1;36m, line \u001b[1;32m7\u001b[0m\n\u001b[1;33m    def setWeight(self, weight)\u001b[0m\n\u001b[1;37m                               ^\u001b[0m\n\u001b[1;31mSyntaxError\u001b[0m\u001b[1;31m:\u001b[0m invalid syntax\n"
     ]
    }
   ],
   "source": [
    "#classes\n",
    "\n",
    "class Cat:\n",
    "    def noise(self):\n",
    "        print(\"Miaow\")\n",
    "        \n",
    "    def setWeight(self, weight)\n",
    "        mass = weight"
   ]
  },
  {
   "cell_type": "code",
   "execution_count": 22,
   "metadata": {},
   "outputs": [
    {
     "ename": "SyntaxError",
     "evalue": "invalid syntax (<ipython-input-22-19bf86572ad6>, line 1)",
     "output_type": "error",
     "traceback": [
      "\u001b[1;36m  File \u001b[1;32m\"<ipython-input-22-19bf86572ad6>\"\u001b[1;36m, line \u001b[1;32m1\u001b[0m\n\u001b[1;33m    Cat Lola\u001b[0m\n\u001b[1;37m           ^\u001b[0m\n\u001b[1;31mSyntaxError\u001b[0m\u001b[1;31m:\u001b[0m invalid syntax\n"
     ]
    }
   ],
   "source": [
    "Cat Lola\n"
   ]
  },
  {
   "cell_type": "code",
   "execution_count": 26,
   "metadata": {},
   "outputs": [
    {
     "name": "stdout",
     "output_type": "stream",
     "text": [
      "Miaow\n",
      "Miaow\n"
     ]
    }
   ],
   "source": [
    "furball = Cat()\n",
    "furball.noise()\n",
    "moulter = Cat()\n",
    "moulter.noise()\n",
    "\n"
   ]
  },
  {
   "cell_type": "code",
   "execution_count": null,
   "metadata": {},
   "outputs": [],
   "source": []
  }
 ],
 "metadata": {
  "kernelspec": {
   "display_name": "Python 3",
   "language": "python",
   "name": "python3"
  },
  "language_info": {
   "codemirror_mode": {
    "name": "ipython",
    "version": 3
   },
   "file_extension": ".py",
   "mimetype": "text/x-python",
   "name": "python",
   "nbconvert_exporter": "python",
   "pygments_lexer": "ipython3",
   "version": "3.7.3"
  }
 },
 "nbformat": 4,
 "nbformat_minor": 2
}
