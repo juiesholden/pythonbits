{
 "cells": [
  {
   "cell_type": "code",
   "execution_count": 6,
   "metadata": {},
   "outputs": [
    {
     "name": "stdout",
     "output_type": "stream",
     "text": [
      "3\n",
      "2\n",
      "1\n",
      "3\n",
      "2\n",
      "1\n"
     ]
    }
   ],
   "source": [
    "# stacks\n",
    "\n",
    "#This method is more efficient than using a list as this uses a double-ended queue\n",
    "#but this is not thread-safe\n",
    "\n",
    "from collections import deque \n",
    "\n",
    "mystack = deque()\n",
    "mystack.append(1)\n",
    "mystack.append(2)\n",
    "mystack.append(3)\n",
    "\n",
    "print(mystack.pop())\n",
    "print(mystack.pop())\n",
    "print(mystack.pop())\n",
    "\n",
    "\n",
    "\n",
    "#using LifoQueue -  This is thread-safe but slower thatn deque: Note uses put and get\n",
    "from queue import LifoQueue\n",
    "\n",
    "mystack = LifoQueue()\n",
    "mystack.put(1)\n",
    "mystack.put(2)\n",
    "mystack.put(3)\n",
    "\n",
    "print(mystack.get())\n",
    "print(mystack.get())\n",
    "print(mystack.get())"
   ]
  },
  {
   "cell_type": "code",
   "execution_count": 45,
   "metadata": {},
   "outputs": [
    {
     "name": "stdout",
     "output_type": "stream",
     "text": [
      "5\n",
      "9\n",
      "1\n",
      "7\n"
     ]
    }
   ],
   "source": [
    "#queues\n",
    "\n",
    "import queue\n",
    "\n",
    "L = queue.Queue(maxsize=20) \n",
    "  \n",
    "L.put(5) \n",
    "L.put(9) \n",
    "L.put(1) \n",
    "L.put(7) \n",
    "\n",
    "print(L.get()) \n",
    "print(L.get()) \n",
    "print(L.get()) \n",
    "print(L.get()) "
   ]
  },
  {
   "cell_type": "code",
   "execution_count": 43,
   "metadata": {},
   "outputs": [
    {
     "name": "stdout",
     "output_type": "stream",
     "text": [
      "{'Colorado': 'Rockies', 'Boston': 'Red Sox', 'Minnesota': 'Twins', 'Milwaukee': 'Brewers', 'Seattle': 'Mariners'}\n",
      "The team in Minnesota is the Twins\n",
      "{'Colorado': 'Rockies', 'Boston': 'Red Sox', 'Minnesota': 'Twins', 'Milwaukee': 'Brewers', 'Seattle': 'Mariners', 'Kansas City': 'Royals'}\n",
      "{'Colorado': 'Rockies', 'Boston': 'Red Sox', 'Minnesota': 'Twins', 'Milwaukee': 'Brewers', 'Seattle': 'Seahawks', 'Kansas City': 'Royals'}\n",
      "{'Colorado': 'Rockies', 'Boston': 'Red Sox', 'Minnesota': 'Twins', 'Milwaukee': 'Brewers', 'Kansas City': 'Royals'}\n",
      "{'fname': 'Joe', 'lname': 'Fonebone', 'age': 51, 'spouse': 'Edna', 'children': ['Ralph', 'Betty', 'Joey'], 'pets': {'dog': 'Fido', 'cat': 'Sox'}}\n",
      "Sox\n",
      "Betty\n",
      "True\n",
      "True\n",
      "5\n",
      "51\n",
      "dict_items([('fname', 'Joe'), ('lname', 'Fonebone'), ('age', 51), ('spouse', 'Edna'), ('children', ['Ralph', 'Betty', 'Joey']), ('pets', {'dog': 'Fido', 'cat': 'Sox'})])\n",
      "dict_keys(['fname', 'lname', 'age', 'spouse', 'children', 'pets'])\n",
      "dict_values(['Joe', 'Fonebone', 51, 'Edna', ['Ralph', 'Betty', 'Joey'], {'dog': 'Fido', 'cat': 'Sox'}])\n",
      "Edna\n",
      "{'fname': 'Joe', 'lname': 'Fonebone', 'age': 51, 'children': ['Ralph', 'Betty', 'Joey'], 'pets': {'dog': 'Fido', 'cat': 'Sox'}}\n",
      "{}\n"
     ]
    }
   ],
   "source": [
    "# dictionaries - store key/value pairs. Index with key - can't use values\n",
    "\n",
    "team = {\n",
    "  'Colorado' : 'Rockies',\n",
    "  'Boston'   : 'Red Sox',\n",
    "  'Minnesota': 'Twins',\n",
    "  'Milwaukee': 'Brewers',\n",
    "  'Seattle'  : 'Mariners'\n",
    " }\n",
    "\n",
    "print(team)\n",
    "print(\"The team in Minnesota is the\", team['Minnesota'])\n",
    "\n",
    "#add\n",
    "team['Kansas City'] = \"Royals\"\n",
    "print(team)\n",
    "\n",
    "#update\n",
    "team[\"Seattle\"] = \"Seahawks\"\n",
    "print(team)\n",
    "\n",
    "#delete\n",
    "del team[\"Seattle\"]\n",
    "print(team)\n",
    "\n",
    "#build a dictionary incrementally - note values and keys don't have to be the same type\n",
    "\n",
    "person = {}\n",
    "type(person)\n",
    "\n",
    "person['fname'] = 'Joe'\n",
    "person['lname'] = 'Fonebone'\n",
    "person['age'] = 51\n",
    "person['spouse'] = 'Edna'\n",
    "person['children'] = ['Ralph', 'Betty', 'Joey']\n",
    "person['pets'] = {'dog': 'Fido', 'cat': 'Sox'}\n",
    "\n",
    "print(person)\n",
    "print(person['pets']['cat'])\n",
    "print(person['children'][1])\n",
    "\n",
    "# use of 'in' or 'not' like lists\n",
    "print('spouse' in person) #True\n",
    "print('address' not in person) #True\n",
    "\n",
    "# len works\n",
    "print(len(team))\n",
    "\n",
    "# safe find\n",
    "print(person.get('age')) #returns 'None' if key does not exist\n",
    "\n",
    "print(person.items()) # return content as tuples\n",
    "\n",
    "print(person.keys()) # list of keys\n",
    "print(person.values()) #list of values\n",
    "print(person.pop('spouse')) # pop (drop) key\n",
    "print(person)\n",
    "person.clear() # Empties a directory\n",
    "print(person)"
   ]
  },
  {
   "cell_type": "code",
   "execution_count": null,
   "metadata": {},
   "outputs": [],
   "source": []
  },
  {
   "cell_type": "code",
   "execution_count": null,
   "metadata": {},
   "outputs": [],
   "source": []
  }
 ],
 "metadata": {
  "kernelspec": {
   "display_name": "Python 3",
   "language": "python",
   "name": "python3"
  },
  "language_info": {
   "codemirror_mode": {
    "name": "ipython",
    "version": 3
   },
   "file_extension": ".py",
   "mimetype": "text/x-python",
   "name": "python",
   "nbconvert_exporter": "python",
   "pygments_lexer": "ipython3",
   "version": "3.7.3"
  }
 },
 "nbformat": 4,
 "nbformat_minor": 2
}
