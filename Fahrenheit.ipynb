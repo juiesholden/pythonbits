{
 "cells": [
  {
   "cell_type": "code",
   "execution_count": 1,
   "metadata": {},
   "outputs": [
    {
     "name": "stdout",
     "output_type": "stream",
     "text": [
      "Fahrenheit to Celsius convertor\n",
      "===============================\n",
      "Enter a temperature in degrees Fahrenheit:98\n",
      "98.0 degrees Fahrenheit equals 36.66666666666667 degrees Celsius\n"
     ]
    }
   ],
   "source": [
    "print(\"Fahrenheit to Celsius convertor\")\n",
    "print(\"=\" * 31) #stupid Python trick!\n",
    "fahrenheit = input(\"Enter a temperature in degrees Fahrenheit:\")\n",
    "fahrenheit = float(fahrenheit)  # will break if user input can't be cast to a float\n",
    "celsius = (fahrenheit - 32)*(5/9)\n",
    "print(fahrenheit, \"degrees Fahrenheit equals\", celsius, \"degrees Celsius\")"
   ]
  },
  {
   "cell_type": "code",
   "execution_count": 1,
   "metadata": {},
   "outputs": [
    {
     "name": "stdout",
     "output_type": "stream",
     "text": [
      "Fahrenheit to Celsius convertor\n",
      "===============================\n",
      "Enter a temperature in degrees Fahrenheit or 'x to exit':x\n",
      "You need to enter a number or 'x' to quit\n",
      "GAME OVER\n"
     ]
    }
   ],
   "source": [
    "#loop version with error handling\n",
    "\n",
    "print(\"Fahrenheit to Celsius convertor\")\n",
    "print(\"=\" * 31) #stupid Python trick!\n",
    "\n",
    "while True:    # keep asking until the user gets bored!\n",
    "    fahrenheit = input(\"Enter a temperature in degrees Fahrenheit or 'x to exit':\")\n",
    "    if fahrenheit.upper() == \"X\": # they might have typed 'x' or 'X'!\n",
    "        exit() # end the program. This doesn't work 100% as the except: block still runs\n",
    "               # which is a bit rubbish and we've not looked at exit() in class\n",
    "               # happy to see a better solution if anyone has got one\n",
    "               # probably sys.exit() but we need to load a module (next week) for th\n",
    "        \n",
    "    try: # have they done it right?\n",
    "        fahrenheit = float(fahrenheit)  \n",
    "        \n",
    "    except: # nope - they've messed up\n",
    "        print(\"You need to enter a number or 'x' to quit\")\n",
    "        break # let's loop again\n",
    "        \n",
    "    else: # user got it right so let's proceed\n",
    "        celsius = (fahrenheit - 32)*(5/9)\n",
    "        celsius = round(celsius,2)  #answer to two decimal places\n",
    "        print(fahrenheit, \"degrees Fahrenheit equals\", celsius, \"degrees Celsius\")\n",
    "        \n",
    "# no identation so out of the loop. Should only get here with break\n",
    "print(\"GAME OVER\")\n"
   ]
  },
  {
   "cell_type": "code",
   "execution_count": 3,
   "metadata": {},
   "outputs": [
    {
     "name": "stdout",
     "output_type": "stream",
     "text": [
      "The loop has started\n",
      "The loop is not currently autorished to go around again\n",
      "Would you be happy to loop another time(y/n)y\n",
      "We are going around again\n",
      "The loop has started\n",
      "The loop is not currently autorished to go around again\n",
      "Would you be happy to loop another time(y/n)y\n",
      "We are going around again\n",
      "The loop has started\n",
      "The loop is not currently autorished to go around again\n",
      "Would you be happy to loop another time(y/n)n\n",
      "Nobody wanted to go around again so we've reached the end\n"
     ]
    }
   ],
   "source": [
    "# For those who don't like endless loops\n",
    "\n",
    "GoodToGo = True\n",
    "while GoodToGo: \n",
    "    print(\"The loop has started\")\n",
    "    GoodToGo = False \n",
    "    print(\"The loop is not currently autorished to go around again\")\n",
    "    again = input(\"Would you be happy to loop another time(y/n)\")\n",
    "    #write your own try/except/else block here\n",
    "    if again == \"y\":\n",
    "        GoodToGo = True\n",
    "        print(\"We are going around again\")\n",
    "#while block ends here\n",
    "print(\"Nobody wanted to go around again so we've reached the end\")        "
   ]
  },
  {
   "cell_type": "code",
   "execution_count": null,
   "metadata": {},
   "outputs": [],
   "source": []
  }
 ],
 "metadata": {
  "kernelspec": {
   "display_name": "Python 3",
   "language": "python",
   "name": "python3"
  },
  "language_info": {
   "codemirror_mode": {
    "name": "ipython",
    "version": 3
   },
   "file_extension": ".py",
   "mimetype": "text/x-python",
   "name": "python",
   "nbconvert_exporter": "python",
   "pygments_lexer": "ipython3",
   "version": "3.7.3"
  }
 },
 "nbformat": 4,
 "nbformat_minor": 2
}
