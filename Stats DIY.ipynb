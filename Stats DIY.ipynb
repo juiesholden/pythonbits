{
 "cells": [
  {
   "cell_type": "code",
   "execution_count": 7,
   "metadata": {},
   "outputs": [
    {
     "name": "stdout",
     "output_type": "stream",
     "text": [
      "List of Values [1, 2, 3, 4, 12]\n",
      "Total =  22\n",
      "Average =  4.4\n",
      "List of variations [11.560000000000002, 5.760000000000002, 1.960000000000001, 0.16000000000000028, 57.76]\n",
      "Variance 19.3\n",
      "Standard Deviation 4.39317652729776\n"
     ]
    }
   ],
   "source": [
    "def statistics(data):    \n",
    "    \n",
    "    ld = len(data)  # How many data items in the list?\n",
    "    \n",
    "    if ld < 3:\n",
    "        print(\"Error: Should be three or more items in list\")\n",
    "      \n",
    "        \n",
    "    total = sum(data) # What do they add up to?\n",
    "        \n",
    "    avg = total/ld  # Calculate the average of the list items   \n",
    "   \n",
    "    \n",
    "    # Now we have an average we can measure the \"variation\" of each list item\n",
    "    # this is calculated by subtracting each item from the average and squaring this\n",
    "    \n",
    "    variations = [] # Create an empty list to store each variation\n",
    "   \n",
    "    for n in range(0,ld):  # loop through the list to calculate each variation\n",
    "        variations.append((avg - data[n])**2) #note brackets. BODMAS!\n",
    "     \n",
    "    # The \"variance\" of the data is calculated by adding the variations and\n",
    "    #dividing this  sum by one less that the length of the list\n",
    "    \n",
    "    variance = (sum(variations)/ (ld-1)) \n",
    "   \n",
    "    # Finally the standard deviation of the list is calculated by finding\n",
    "    #the square root of the variance\n",
    "    \n",
    "    stdev = variance ** 0.5\n",
    "  \n",
    "    print(\"List of Values\", numbers)\n",
    "    print(\"Total = \", total)\n",
    "    print(\"Average = \", avg)    \n",
    "    print(\"List of variations\", variations)  \n",
    "    print(\"Variance\", variance)\n",
    "    print(\"Standard Deviation\", stdev)\n",
    "    \n",
    "#end of function\n",
    "\n",
    "numbers = [1,2,3,4,12]        \n",
    "statistics(numbers)\n",
    "\n",
    "\n"
   ]
  },
  {
   "cell_type": "code",
   "execution_count": null,
   "metadata": {},
   "outputs": [],
   "source": []
  }
 ],
 "metadata": {
  "kernelspec": {
   "display_name": "Python 3",
   "language": "python",
   "name": "python3"
  },
  "language_info": {
   "codemirror_mode": {
    "name": "ipython",
    "version": 3
   },
   "file_extension": ".py",
   "mimetype": "text/x-python",
   "name": "python",
   "nbconvert_exporter": "python",
   "pygments_lexer": "ipython3",
   "version": "3.7.3"
  }
 },
 "nbformat": 4,
 "nbformat_minor": 2
}
