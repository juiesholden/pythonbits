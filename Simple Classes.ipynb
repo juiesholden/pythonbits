{
 "cells": [
  {
   "cell_type": "code",
   "execution_count": 2,
   "metadata": {},
   "outputs": [
    {
     "name": "stdout",
     "output_type": "stream",
     "text": [
      "JULIAN\n",
      "<class 'str'>\n"
     ]
    }
   ],
   "source": [
    "name = \"Julian\"\n",
    "print(name.upper())\n",
    "print(type(name))"
   ]
  },
  {
   "cell_type": "code",
   "execution_count": 53,
   "metadata": {},
   "outputs": [
    {
     "name": "stdout",
     "output_type": "stream",
     "text": [
      "I say Hello\n",
      "I say Goodbye\n",
      "I say Bollocks\n"
     ]
    }
   ],
   "source": [
    "class myClass:\n",
    "    \n",
    "    def __init__(self, msg):\n",
    "        self.message = msg\n",
    "    \n",
    "    def show(self):\n",
    "        print(\"I say\", self.message)\n",
    "\n",
    "    \n",
    "\n",
    "obj1 = myClass(\"Hello\")\n",
    "obj1.show()\n",
    "\n",
    "obj2 = myClass(\"Goodbye\")\n",
    "obj2.show()\n",
    "\n",
    "ob3 = myClass(\"Bollocks\")\n",
    "ob3.show()\n",
    "\n",
    "\n"
   ]
  },
  {
   "cell_type": "code",
   "execution_count": 48,
   "metadata": {},
   "outputs": [
    {
     "name": "stdout",
     "output_type": "stream",
     "text": [
      "Hello my name is John\n",
      "I am 36 years old\n",
      "Age not set\n",
      "Hello my name is Julian\n",
      "Hello my name is JULIAN\n",
      "Hello my name is nailuJ\n"
     ]
    }
   ],
   "source": [
    "class Person:\n",
    "    def __init__(self, name, age):\n",
    "        self.name = name.title()\n",
    "        if age < 0 or age > 150:\n",
    "            print(\"*** Invalid Data - Age Not Set ***\")\n",
    "            self.age = 0\n",
    "        else:\n",
    "            self.age = age\n",
    "\n",
    "    def getName(self):\n",
    "        print(\"Hello my name is \" + self.name)\n",
    "        \n",
    "    def shoutName(self):\n",
    "        print(\"Hello my name is \" + self.name.upper())\n",
    "        \n",
    "    def backwardsName(self):\n",
    "        print(\"Hello my name is \" + self.name[::-1])\n",
    "    \n",
    "    def setName(self, name):\n",
    "        self.name = name.title()     \n",
    "        \n",
    "    def getAge(self):\n",
    "        if self.age != 0:\n",
    "            print(\"I am\", self.age, \"years old\")\n",
    "        else:\n",
    "            print(\"Age not set\")\n",
    "        \n",
    "    def setAge(self, age):\n",
    "        self.age = age\n",
    "\n",
    "p1 = Person(\"john\", 36)\n",
    "p1.getName()\n",
    "p1.getAge()\n",
    "p1.setAge(0)\n",
    "p1.getAge()\n",
    "p1.setName(\"Julian\")\n",
    "p1.getName()\n",
    "p1.shoutName()\n",
    "p1.backwardsName()"
   ]
  },
  {
   "cell_type": "code",
   "execution_count": null,
   "metadata": {},
   "outputs": [],
   "source": []
  }
 ],
 "metadata": {
  "kernelspec": {
   "display_name": "Python 3",
   "language": "python",
   "name": "python3"
  },
  "language_info": {
   "codemirror_mode": {
    "name": "ipython",
    "version": 3
   },
   "file_extension": ".py",
   "mimetype": "text/x-python",
   "name": "python",
   "nbconvert_exporter": "python",
   "pygments_lexer": "ipython3",
   "version": "3.7.3"
  }
 },
 "nbformat": 4,
 "nbformat_minor": 2
}
