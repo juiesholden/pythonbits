{
 "cells": [
  {
   "cell_type": "code",
   "execution_count": 22,
   "metadata": {},
   "outputs": [
    {
     "name": "stdout",
     "output_type": "stream",
     "text": [
      "[17, 11, 12, 1, 12, 14, 18, 18, 16, 16, 16, 16, 16, 11, 19, 15, 17, 4, 5]\n",
      "[1, 4, 5, 11, 11, 12, 12, 14, 15, 16, 16, 16, 16, 16, 17, 17, 18, 18, 19]\n",
      "[1, 4, 5, '*', 11, '*', 12, 14, 15, '*', '*', '*', '*', 16, '*', 17, '*', 18, 19]\n"
     ]
    }
   ],
   "source": [
    "#remove duplicates from list\n",
    "import random as rm\n",
    "numbers = []\n",
    "for x in range(0,19):\n",
    "    numbers.append(rm.randint(1,20))\n",
    "print(numbers)\n",
    "    \n",
    "\n",
    "numbers.sort()    \n",
    "print(numbers)\n",
    "\n",
    "x = 0\n",
    "while x < 18:\n",
    "    if numbers[x] == numbers[x+1]:\n",
    "        numbers[x] = \"*\"\n",
    "    x+=1   \n",
    "\n",
    "print(numbers)"
   ]
  },
  {
   "cell_type": "code",
   "execution_count": 53,
   "metadata": {},
   "outputs": [
    {
     "name": "stdout",
     "output_type": "stream",
     "text": [
      "[6, 15, 18, 26, 32, 38]\n"
     ]
    }
   ],
   "source": [
    "# Lottery\n",
    "import random as rm\n",
    "numbers = []\n",
    "x = 0\n",
    "\n",
    "while x < 6:\n",
    "    new = rm.randint(1,49)\n",
    "    if new in numbers:\n",
    "        pass\n",
    "    else:\n",
    "        numbers.append(new)\n",
    "        x+=1\n",
    "\n",
    "    \n",
    "\n",
    "numbers.sort()    \n",
    "print(numbers)\n",
    "\n"
   ]
  },
  {
   "cell_type": "code",
   "execution_count": 70,
   "metadata": {},
   "outputs": [
    {
     "name": "stdout",
     "output_type": "stream",
     "text": [
      "184132635\n",
      "33\n"
     ]
    }
   ],
   "source": [
    "#sum all digits in a value\n",
    "import random\n",
    "num = int(random.random()*1e9)  \n",
    "numstr = str(num)\n",
    "print(numstr)\n",
    "total = 0\n",
    "for x in numstr:\n",
    "    total+=int(x)\n",
    "print(total)"
   ]
  },
  {
   "cell_type": "code",
   "execution_count": 109,
   "metadata": {},
   "outputs": [
    {
     "name": "stdout",
     "output_type": "stream",
     "text": [
      "Factors of  23600 are [2, 4, 5, 8, 10, 16, 20, 25, 40, 50, 59, 80, 100, 118, 200, 236, 295, 400, 472, 590, 944, 1180, 1475, 2360, 2950, 4720, 5900, 11800]\n",
      "Factors of  19800 are [2, 3, 4, 5, 6, 8, 9, 10, 11, 12, 15, 18, 20, 22, 24, 25, 30, 33, 36, 40, 44, 45, 50, 55, 60, 66, 72, 75, 88, 90, 99, 100, 110, 120, 132, 150, 165, 180, 198, 200, 220, 225, 264, 275, 300, 330, 360, 396, 440, 450, 495, 550, 600, 660, 792, 825, 900, 990, 1100, 1320, 1650, 1800, 1980, 2200, 2475, 3300, 3960, 4950, 6600, 9900]\n",
      "GCF of 23600 and 19800 is 200\n"
     ]
    }
   ],
   "source": [
    "# greatest common factor - there are better solutions\n",
    "#x = int(input(\"Enter first number\"))\n",
    "#y = int(input(\"Enter second number\"))\n",
    "#print(x,y)\n",
    "x = 23600\n",
    "y = 19800\n",
    "\n",
    "factx = []\n",
    "for i in range(2,x):\n",
    "    if x%i == 0:\n",
    "        factx.append(i)\n",
    "\n",
    "\n",
    "facty = []\n",
    "for i in range(2,y):\n",
    "    if y%i == 0:\n",
    "        facty.append(i)\n",
    "        \n",
    "print(\"Factors of \",x, \"are\", factx)\n",
    "print(\"Factors of \", y, \"are\", facty)\n",
    "\n",
    "commonFactors = []\n",
    "\n",
    "for num in factx:\n",
    "    if num in facty:\n",
    "        commonFactors.append(num)\n",
    "       \n",
    "print(\"GCF of\", x, \"and\", y, \"is\", commonFactors[-1])\n"
   ]
  },
  {
   "cell_type": "code",
   "execution_count": 106,
   "metadata": {},
   "outputs": [
    {
     "name": "stdout",
     "output_type": "stream",
     "text": [
      "The gcd of 82008 and 74600  is : 8\n"
     ]
    }
   ],
   "source": [
    "#gcf using recursion\n",
    "\n",
    "def hcfnaive(a,b): \n",
    "    if(b==0): \n",
    "        return a \n",
    "    else: \n",
    "        return hcfnaive(b,a%b) \n",
    "  \n",
    "a = 82008\n",
    "b = 74600\n",
    "  \n",
    "# prints 12 \n",
    "print (\"The gcd of\" ,a, \"and\", b, \" is : \",end=\"\") \n",
    "print (hcfnaive(a,b)) \n",
    "\n"
   ]
  },
  {
   "cell_type": "code",
   "execution_count": 108,
   "metadata": {},
   "outputs": [
    {
     "name": "stdout",
     "output_type": "stream",
     "text": [
      "The gcd of 23600 and 19800 is : 200\n"
     ]
    }
   ],
   "source": [
    "#gcf using math.gcd\n",
    "import math \n",
    "a=23600\n",
    "b=19800\n",
    "print (\"The gcd of\", a, \"and\", b, \"is : \",end=\"\") \n",
    "print (math.gcd(a,b)) "
   ]
  },
  {
   "cell_type": "code",
   "execution_count": 127,
   "metadata": {},
   "outputs": [
    {
     "name": "stdout",
     "output_type": "stream",
     "text": [
      "able was  I ere  I saw elbA\n"
     ]
    }
   ],
   "source": [
    "#reverse a string\n",
    "str = \"Able was I ere I saw elba\"\n",
    "print(str[::-1])"
   ]
  },
  {
   "cell_type": "code",
   "execution_count": null,
   "metadata": {},
   "outputs": [
    {
     "name": "stdout",
     "output_type": "stream",
     "text": [
      "[850, 93, 237, 978, 840, 945, 377, 598, 156, 856]\n",
      "[93, 850, 237, 978, 840, 945, 377, 598, 156, 856]\n",
      "Go \n",
      "[93, 237, 850, 978, 840, 945, 377, 598, 156, 856]\n",
      "Go\n",
      "[93, 237, 850, 978, 840, 945, 377, 598, 156, 856]\n",
      "Go\n",
      "[93, 237, 850, 840, 978, 945, 377, 598, 156, 856]\n",
      "Go\n",
      "[93, 237, 850, 840, 945, 978, 377, 598, 156, 856]\n",
      "Go\n",
      "[93, 237, 850, 840, 945, 377, 978, 598, 156, 856]\n",
      "Go\n",
      "[93, 237, 850, 840, 945, 377, 598, 978, 156, 856]\n",
      "Go\n",
      "[93, 237, 850, 840, 945, 377, 598, 156, 978, 856]\n",
      "Go\n",
      "[93, 237, 850, 840, 945, 377, 598, 156, 856, 978]\n",
      "Go\n"
     ]
    }
   ],
   "source": [
    "# bubble sort\n",
    "import random as rm\n",
    "numbers = []\n",
    "\n",
    "for x in range(10):\n",
    "    numbers.append(rm.randint(1,1000))\n",
    "print(numbers)\n",
    "    \n",
    "unsorted = True\n",
    "pos = 0\n",
    "while unsorted == True:\n",
    "    #unsorted = False\n",
    "    while pos < len(numbers)-1:\n",
    "        if numbers[pos] > numbers[pos+1]:\n",
    "            h = numbers[pos]\n",
    "            numbers[pos] = numbers[pos+1]\n",
    "            numbers[pos+1] = h\n",
    "            #unsorted = True\n",
    "        \n",
    "        pos += 1\n",
    "        print(numbers)\n",
    "        wait=input(\"Go\")\n",
    "        \n",
    "print(\"end of inner loop\")\n",
    "    \n",
    "\n",
    "    \n"
   ]
  },
  {
   "cell_type": "code",
   "execution_count": null,
   "metadata": {},
   "outputs": [],
   "source": [
    "\n",
    "\n",
    "\n",
    "\n",
    "\n",
    "\n",
    "\n",
    "\n",
    "\n",
    "\n"
   ]
  },
  {
   "cell_type": "code",
   "execution_count": null,
   "metadata": {},
   "outputs": [],
   "source": [
    "\n",
    "\n",
    "\n"
   ]
  }
 ],
 "metadata": {
  "kernelspec": {
   "display_name": "Python 3",
   "language": "python",
   "name": "python3"
  },
  "language_info": {
   "codemirror_mode": {
    "name": "ipython",
    "version": 3
   },
   "file_extension": ".py",
   "mimetype": "text/x-python",
   "name": "python",
   "nbconvert_exporter": "python",
   "pygments_lexer": "ipython3",
   "version": "3.7.3"
  }
 },
 "nbformat": 4,
 "nbformat_minor": 2
}
