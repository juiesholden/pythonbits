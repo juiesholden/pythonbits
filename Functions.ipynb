{
 "cells": [
  {
   "cell_type": "code",
   "execution_count": 1,
   "metadata": {},
   "outputs": [
    {
     "name": "stdout",
     "output_type": "stream",
     "text": [
      "Hello\n",
      "Hello Julian\n",
      "12\n",
      "We have a pet Cat\n",
      "We have a pet Dog\n",
      "Now making a Large pizza with \n",
      " spam\n",
      " chips\n",
      "None\n"
     ]
    }
   ],
   "source": [
    "def greet():   \n",
    "    print(\"Hello\")\n",
    "\n",
    "greet()\n",
    "\n",
    "\n",
    "def greet(name):\n",
    "    print(\"Hello \" + name)\n",
    "\n",
    "greet(\"Julian\")\n",
    "\n",
    "def multiply(x,y):\n",
    "    return x*y\n",
    "\n",
    "z = multiply(3,4)\n",
    "print(z)\n",
    "\n",
    "def describe_pet(animal = \"Dog\"): #default parameter\n",
    "    print(\"We have a pet \" + animal)\n",
    "\n",
    "describe_pet(\"Cat\")\n",
    "describe_pet()\n",
    "\n",
    "def pizza(size, *toppings): #variable parameter list\n",
    "    print(\"Now making a \" + size + \" pizza with \")\n",
    "    for topping in toppings:\n",
    "        print(\" \"+ topping)\n",
    "\n",
    "print(pizza(\"Large\", \"spam\", \"chips\"))"
   ]
  },
  {
   "cell_type": "markdown",
   "metadata": {
    "jupyter": {
     "source_hidden": true
    }
   },
   "source": [
    "More Text"
   ]
  },
  {
   "cell_type": "markdown",
   "metadata": {},
   "source": [
    "Text Here"
   ]
  }
 ],
 "metadata": {
  "kernelspec": {
   "display_name": "Python 3",
   "language": "python",
   "name": "python3"
  },
  "language_info": {
   "codemirror_mode": {
    "name": "ipython",
    "version": 3
   },
   "file_extension": ".py",
   "mimetype": "text/x-python",
   "name": "python",
   "nbconvert_exporter": "python",
   "pygments_lexer": "ipython3",
   "version": "3.7.3"
  }
 },
 "nbformat": 4,
 "nbformat_minor": 4
}
