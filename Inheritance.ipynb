{
 "cells": [
  {
   "cell_type": "code",
   "execution_count": 24,
   "metadata": {},
   "outputs": [
    {
     "name": "stdout",
     "output_type": "stream",
     "text": [
      "John Doe\n"
     ]
    }
   ],
   "source": [
    "class Person: # parent class\n",
    "    def __init__(self, fname, lname):\n",
    "        self.firstname = fname\n",
    "        self.lastname = lname\n",
    "\n",
    "    def printname(self):\n",
    "        print(self.firstname, self.lastname)\n",
    "    \n",
    "    def printlast(self):\n",
    "        print(self.lastname)\n",
    "\n",
    "        \n",
    "# Use the Person class to create an object, and then execute the printname method:\n",
    "\n",
    "x = Person(\"John\", \"Doe\")\n",
    "x.printname() "
   ]
  },
  {
   "cell_type": "code",
   "execution_count": 33,
   "metadata": {},
   "outputs": [
    {
     "name": "stdout",
     "output_type": "stream",
     "text": [
      "Holden\n",
      "Julian Holden 123456\n"
     ]
    }
   ],
   "source": [
    "class student(Person):  # child class of Person\n",
    "    \n",
    "    def __init__(self, fname, lname, reference):  # define constructor\n",
    "        Person.__init__(self, fname, lname)    # inherit constructor of parent - only handles name data\n",
    "        # super().__init__(fname, lname) # Alternative method\n",
    "        self.number = reference    # store student number\n",
    "    \n",
    "        \n",
    "    def printname(self): #overriding the inherited method to add student number\n",
    "        print(self.firstname, self.lastname, self.number)\n",
    "\n",
    "    \n",
    "\n",
    "y = student(\"Julian\", \"Holden\", 123456)\n",
    "y.printlast() # method of Person\n",
    "y.printname() # overidden method of student\n"
   ]
  },
  {
   "cell_type": "code",
   "execution_count": null,
   "metadata": {},
   "outputs": [],
   "source": []
  }
 ],
 "metadata": {
  "kernelspec": {
   "display_name": "Python 3",
   "language": "python",
   "name": "python3"
  },
  "language_info": {
   "codemirror_mode": {
    "name": "ipython",
    "version": 3
   },
   "file_extension": ".py",
   "mimetype": "text/x-python",
   "name": "python",
   "nbconvert_exporter": "python",
   "pygments_lexer": "ipython3",
   "version": "3.7.3"
  }
 },
 "nbformat": 4,
 "nbformat_minor": 2
}
