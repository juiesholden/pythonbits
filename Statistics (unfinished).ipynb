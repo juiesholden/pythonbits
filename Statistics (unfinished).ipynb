{
 "cells": [
  {
   "cell_type": "markdown",
   "metadata": {},
   "source": [
    "Statistics is concerned with learning about a <i>Population</i> from a <i>Sample</i>\n",
    "\n",
    "Samples must be random and must not <b>differ systematically</b> from the population they come from. It needs to be adequately-sized (usually 30+) Sample size is referred to as n. The larger n is the more confidence we can have in our conclusion.\n",
    "\n",
    "When we arrange our samples on a histogram we see a distribution. If we take enough random samples this should be a normal (or Gaussian) distribution,\n",
    "\n",
    "Sample average (x-bar) = mathematical mean. The basic way to find the <b>Central Tendency</b> of a distribution. Trimmed average = average excluding outliers\n",
    "\n",
    "Median = middle value. Equal number of values either side."
   ]
  },
  {
   "cell_type": "code",
   "execution_count": 13,
   "metadata": {},
   "outputs": [
    {
     "name": "stdout",
     "output_type": "stream",
     "text": [
      "Count: 17 \n",
      "Mean: 13.823529411764707 \n",
      "Median: 12\n"
     ]
    }
   ],
   "source": [
    "import statistics\n",
    "numbers = [1,2,4,5,7,9,10,11,12,15,16,17,21,24,26,27,28]\n",
    "average = statistics.mean(numbers)\n",
    "med = statistics.median(numbers)\n",
    "print(\"Count:\", len(numbers), \"\\nMean:\", average, \"\\nMedian:\", med)\n",
    "     "
   ]
  },
  {
   "cell_type": "markdown",
   "metadata": {},
   "source": [
    "Variance (from mean) is calculated by measuring the difference (deviation) of each value from the mean, squaring\n",
    "each of these, adding the squared deviations and dividing by n-1\n"
   ]
  },
  {
   "cell_type": "code",
   "execution_count": 9,
   "metadata": {},
   "outputs": [
    {
     "name": "stdout",
     "output_type": "stream",
     "text": [
      "79.27941176470588\n"
     ]
    }
   ],
   "source": [
    "print(statistics.variance(numbers))"
   ]
  },
  {
   "cell_type": "markdown",
   "metadata": {},
   "source": [
    "Standard Deviation is calculated by taking the square root of the variance. We call this S"
   ]
  },
  {
   "cell_type": "code",
   "execution_count": 16,
   "metadata": {},
   "outputs": [
    {
     "name": "stdout",
     "output_type": "stream",
     "text": [
      "S = 8.903898683425474\n"
     ]
    }
   ],
   "source": [
    "print(\"S =\",statistics.stdev(numbers))"
   ]
  },
  {
   "cell_type": "markdown",
   "metadata": {},
   "source": [
    "The Central Limit Theorem - to do "
   ]
  },
  {
   "cell_type": "markdown",
   "metadata": {},
   "source": [
    "Probabilities: Expressed as a value between 0 and 1. e.g, 95% probability = 0.95.\n",
    "\n",
    "We can calculate probabilities by measuring areas under their distribution curve using Integration, As all curves can be expressed as a function we could use the function to generate values for us."
   ]
  },
  {
   "cell_type": "markdown",
   "metadata": {},
   "source": [
    "P-values\n"
   ]
  },
  {
   "cell_type": "markdown",
   "metadata": {},
   "source": [
    "Correlation"
   ]
  },
  {
   "cell_type": "markdown",
   "metadata": {},
   "source": [
    "Small Sample sizes"
   ]
  },
  {
   "cell_type": "markdown",
   "metadata": {},
   "source": [
    "Regression Analysis"
   ]
  },
  {
   "cell_type": "markdown",
   "metadata": {},
   "source": [
    "Anova\n"
   ]
  },
  {
   "cell_type": "code",
   "execution_count": null,
   "metadata": {},
   "outputs": [],
   "source": []
  }
 ],
 "metadata": {
  "kernelspec": {
   "display_name": "Python 3",
   "language": "python",
   "name": "python3"
  },
  "language_info": {
   "codemirror_mode": {
    "name": "ipython",
    "version": 3
   },
   "file_extension": ".py",
   "mimetype": "text/x-python",
   "name": "python",
   "nbconvert_exporter": "python",
   "pygments_lexer": "ipython3",
   "version": "3.7.3"
  }
 },
 "nbformat": 4,
 "nbformat_minor": 2
}
